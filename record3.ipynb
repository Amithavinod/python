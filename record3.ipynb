{
 "cells": [
  {
   "cell_type": "code",
   "execution_count": 1,
   "id": "a89c5dcb-fda3-4195-bd77-9030bd25ae68",
   "metadata": {},
   "outputs": [
    {
     "name": "stdin",
     "output_type": "stream",
     "text": [
      "enter a number 1\n",
      "enter a number 3\n",
      "enter a number 2\n"
     ]
    },
    {
     "name": "stdout",
     "output_type": "stream",
     "text": [
      "biggest number is 3.0\n"
     ]
    }
   ],
   "source": [
    "#write a program to find the biggest of three numbers(use max())\n",
    "a=float(input(\"enter a number\"))\n",
    "b=float(input(\"enter a number\"))\n",
    "c=float(input(\"enter a number\"))\n",
    "n=max(a,b,c)\n",
    "print(\"biggest number is\",n)"
   ]
  },
  {
   "cell_type": "code",
   "execution_count": null,
   "id": "3df91fcf-2c08-49b8-bfb8-d30a32ba0dfa",
   "metadata": {},
   "outputs": [],
   "source": []
  }
 ],
 "metadata": {
  "kernelspec": {
   "display_name": "Python 3 (ipykernel)",
   "language": "python",
   "name": "python3"
  },
  "language_info": {
   "codemirror_mode": {
    "name": "ipython",
    "version": 3
   },
   "file_extension": ".py",
   "mimetype": "text/x-python",
   "name": "python",
   "nbconvert_exporter": "python",
   "pygments_lexer": "ipython3",
   "version": "3.11.7"
  }
 },
 "nbformat": 4,
 "nbformat_minor": 5
}
