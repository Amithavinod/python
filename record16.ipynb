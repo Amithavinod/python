{
 "cells": [
  {
   "cell_type": "code",
   "execution_count": null,
   "id": "f373d597-6a36-4ef9-83a0-b65f39363761",
   "metadata": {},
   "outputs": [
    {
     "name": "stdin",
     "output_type": "stream",
     "text": [
      "Enter the bank account number 1\n",
      "Enter the account holder name a\n",
      "Enter account type(savings/current) savings\n",
      "Enter the initial balence 1000\n"
     ]
    },
    {
     "name": "stdout",
     "output_type": "stream",
     "text": [
      "1.deposite\n",
      "2.withdraw\n",
      "3.balence\n",
      "4.exit\n"
     ]
    },
    {
     "name": "stdin",
     "output_type": "stream",
     "text": [
      "Enter your choice: 3\n"
     ]
    },
    {
     "name": "stdout",
     "output_type": "stream",
     "text": [
      "current balence 1000\n",
      "1.deposite\n",
      "2.withdraw\n",
      "3.balence\n",
      "4.exit\n"
     ]
    },
    {
     "name": "stdin",
     "output_type": "stream",
     "text": [
      "Enter your choice: 2\n",
      "Enter the amount of withdraw 2000\n"
     ]
    },
    {
     "name": "stdout",
     "output_type": "stream",
     "text": [
      "insufficient balence\n",
      "1.deposite\n",
      "2.withdraw\n",
      "3.balence\n",
      "4.exit\n"
     ]
    }
   ],
   "source": [
    "#create a bank account with members accound number,name,type of account and balence.write constructor and methods to deposit at the bank t from the bank\n",
    "class bank:\n",
    "    def __init__(self,number,name,typ,balence):\n",
    "        self.number=number\n",
    "        self.name=name\n",
    "        self.typ=typ\n",
    "        self.balence=balence\n",
    "    def deposit(self,amount):\n",
    "        self.balence+=amount\n",
    "        print(\"Amount deposited\",amount)\n",
    "        print(\"Updated balence\",self.balence)\n",
    "    def withdraw(self,amount):\n",
    "        if self.balence<amount:\n",
    "            print(\"insufficient balence\")\n",
    "        else:\n",
    "            self.balence-=amount\n",
    "            print(\"updated balence\",self.balence)\n",
    "number=input(\"Enter the bank account number\")\n",
    "name=input(\"Enter the account holder name\")\n",
    "typ=input(\"Enter account type(savings/current)\")\n",
    "balence=int(input(\"Enter the initial balence\"))\n",
    "a=bank(number,name,typ,balence)\n",
    "while(1):\n",
    "    print(\"1.deposite\\n2.withdraw\\n3.balence\\n4.exit\")\n",
    "    n=int(input(\"Enter your choice:\"))\n",
    "    if n==1:\n",
    "        am=int(input(\"Enter the amount of deposite\"))\n",
    "        a.deposit(am)\n",
    "    elif n==2:\n",
    "        ab=int(input(\"Enter the amount of withdraw\"))\n",
    "        a.withdraw(ab)\n",
    "    elif n==3:\n",
    "        print(\"current balence\",balence)\n",
    "    else:\n",
    "        break\n"
   ]
  },
  {
   "cell_type": "code",
   "execution_count": null,
   "id": "17e7f9b6-eda2-4fd4-aa07-53300f421080",
   "metadata": {},
   "outputs": [],
   "source": []
  }
 ],
 "metadata": {
  "kernelspec": {
   "display_name": "Python 3 (ipykernel)",
   "language": "python",
   "name": "python3"
  },
  "language_info": {
   "codemirror_mode": {
    "name": "ipython",
    "version": 3
   },
   "file_extension": ".py",
   "mimetype": "text/x-python",
   "name": "python",
   "nbconvert_exporter": "python",
   "pygments_lexer": "ipython3",
   "version": "3.11.7"
  }
 },
 "nbformat": 4,
 "nbformat_minor": 5
}
