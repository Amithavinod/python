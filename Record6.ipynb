{
 "cells": [
  {
   "cell_type": "code",
   "execution_count": 12,
   "id": "b7299274-2bb8-47b5-83a4-123d119bb6d2",
   "metadata": {},
   "outputs": [
    {
     "name": "stdin",
     "output_type": "stream",
     "text": [
      "enter the numbers: 1,2,3,4,5,6\n"
     ]
    },
    {
     "name": "stdout",
     "output_type": "stream",
     "text": [
      "tuple is: (1, 2, 3, 4, 5, 6)\n",
      "the first 3rd element and the last 3rd element is: 3 and 4\n"
     ]
    }
   ],
   "source": [
    "#write a python program to get the 3rd element and the last 3 rd element from the tuple\n",
    "t=tuple(map(int,input(\"enter the numbers:\").split(\",\")))\n",
    "print(\"tuple is:\",t)\n",
    "s=t[2]\n",
    "v=t[3]\n",
    "print(\"the first 3rd element and the last 3rd element is:\",s,\"and\",v)"
   ]
  },
  {
   "cell_type": "code",
   "execution_count": 15,
   "id": "bb210b43-94d4-4358-aa22-421f9a4d26fb",
   "metadata": {},
   "outputs": [
    {
     "name": "stdin",
     "output_type": "stream",
     "text": [
      "enter the numbers: 1.3,1.4,1.5\n"
     ]
    },
    {
     "name": "stdout",
     "output_type": "stream",
     "text": [
      "tuple is: (1.3, 1.4, 1.5)\n",
      "average is: 1.4\n"
     ]
    }
   ],
   "source": [
    "#write a python program which accepts a sequence of comma seperated numbers from userand generate a tuple with those numbers and find the average of all items in that tuple\n",
    "t=tuple(map(float,input(\"enter the numbers:\").split(\",\")))\n",
    "print(\"tuple is:\",t)\n",
    "s=sum(t)\n",
    "l=len(t)\n",
    "r=round(s/l,2)\n",
    "print(\"average is:\",r)"
   ]
  },
  {
   "cell_type": "code",
   "execution_count": null,
   "id": "d6205587-a65b-4d7e-a12a-ec71276ada9c",
   "metadata": {},
   "outputs": [],
   "source": []
  }
 ],
 "metadata": {
  "kernelspec": {
   "display_name": "Python 3 (ipykernel)",
   "language": "python",
   "name": "python3"
  },
  "language_info": {
   "codemirror_mode": {
    "name": "ipython",
    "version": 3
   },
   "file_extension": ".py",
   "mimetype": "text/x-python",
   "name": "python",
   "nbconvert_exporter": "python",
   "pygments_lexer": "ipython3",
   "version": "3.11.7"
  }
 },
 "nbformat": 4,
 "nbformat_minor": 5
}
