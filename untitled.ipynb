
{
 "cells": [
  {
   "cell_type": "code",
   "execution_count": 1,
   "id": "7a2b28a4-b592-4d4f-981f-dbc608559e88",
   "metadata": {},
   "outputs": [
    {
     "name": "stdout",
     "output_type": "stream",
     "text": [
      "good morning\n"
     ]
    }
   ],
   "source": [
    "print(\"good morning\")"
   ]
  },
  {
   "cell_type": "code",
   "execution_count": 7,
   "id": "0888dcc5-b5eb-4595-9e34-e79dfff4a929",
   "metadata": {},
   "outputs": [
    {
     "name": "stdout",
     "output_type": "stream",
     "text": [
      "kolakkattil house amarambalam p.o ullad\n"
     ]
    }
   ],
   "source": [
    "print(\"kolakkattil house amarambalam p.o ullad\")"
   ]
  },
  {
   "cell_type": "code",
   "execution_count": 3,
   "id": "fcf1a88e-3ace-4772-9a2d-135850841fe6",
   "metadata": {},
   "outputs": [
    {
     "name": "stdout",
     "output_type": "stream",
     "text": [
      "kolakkattil house amarambalam p.o ullad\n"
     ]
    }
   ],
   "source": [
    "print(\"kolakkattil house amarambalam p.o ullad\")"
   ]
  },
  {
   "cell_type": "code",
   "execution_count": 4,
   "id": "627e9f6e-441e-48b6-9ba9-1750042dd030",
   "metadata": {},
   "outputs": [
    {
     "name": "stdout",
     "output_type": "stream",
     "text": [
      "kolakkattil house\n",
      " amarambalam p.o\n",
      " ullad\n"
     ]
    }
   ],
   "source": [
    "print(\"kolakkattil house\\n amarambalam p.o\\n ullad\")"
   ]
  },
  {
   "cell_type": "code",
   "execution_count": 6,
   "id": "8f5ab094-1259-4afd-b532-2da09607d84c",
   "metadata": {},
   "outputs": [
    {
     "name": "stdout",
     "output_type": "stream",
     "text": [
      "kolakkattil house\n",
      "amarambalam p.o\n",
      "ullad\n"
     ]
    }
   ],
   "source": [
    "print(\"kolakkattil house\\namarambalam p.o\\nullad\")"
   ]
  },
  {
   "cell_type": "raw",
   "id": "97d6e71d-2813-4f3a-82f5-039630a97d42",
   "metadata": {},
   "source": [
    "print(5/2)"
   ]
  },
  {
   "cell_type": "code",
   "execution_count": 8,
   "id": "400806da-07ab-4bff-9dd0-f489b6ff1d11",
   "metadata": {},
   "outputs": [
    {
     "name": "stdout",
     "output_type": "stream",
     "text": [
      "2.5\n"
     ]
    }
   ],
   "source": [
    "print(5/2)"
   ]
  },
  {
   "cell_type": "code",
   "execution_count": 9,
   "id": "8a8e9506-e31b-4d4e-b389-0b8876b48e49",
   "metadata": {},
   "outputs": [
    {
     "name": "stdout",
     "output_type": "stream",
     "text": [
      "mca's student\n"
     ]
    }
   ],
   "source": [
    "print(\"mca's student\")"
   ]
  },
  {
   "cell_type": "code",
   "execution_count": 11,
   "id": "d33bd521-2e80-459c-a303-ab2c6ed58229",
   "metadata": {},
   "outputs": [
    {
     "name": "stdout",
     "output_type": "stream",
     "text": [
      "mca\"student\"\n"
     ]
    }
   ],
   "source": [
    "print('mca\"student\"')"
   ]
  },
  {
   "cell_type": "raw",
   "id": "6478dc09-0a3b-4365-a673-371251df35df",
   "metadata": {},
   "source": [
    "name=\"arjun\""
   ]
  },
  {
   "cell_type": "code",
   "execution_count": 16,
   "id": "887a2089-bee4-4e00-a2f8-d52426755267",
   "metadata": {},
   "outputs": [
    {
     "name": "stdout",
     "output_type": "stream",
     "text": [
      "name= ar\n"
     ]
    }
   ],
   "source": [
    "name=\"arjun\"\n",
    "print(\"name=\",name[0:2])"
   ]
  },
  {
   "cell_type": "code",
   "execution_count": 29,
   "id": "4a843af1-1afa-4cce-9ed7-ef96be27ce0b",
   "metadata": {},
   "outputs": [
    {
     "name": "stdout",
     "output_type": "stream",
     "text": [
      "name= arj\n"
     ]
    }
   ],
   "source": [
    "n=\"arjun\"\n",
    "print(\"name=\",n[-5:3])"
   ]
  },
  {
   "cell_type": "code",
   "execution_count": null,
   "id": "c3a48f21-e8b6-48ad-b6b8-18634ba9142b",
   "metadata": {},
   "outputs": [],
   "source": []
  }
 ],
 "metadata": {
  "kernelspec": {
   "display_name": "Python 3 (ipykernel)",
   "language": "python",
   "name": "python3"
  },
  "language_info": {
   "codemirror_mode": {
    "name": "ipython",
    "version": 3
   },
   "file_extension": ".py",
   "mimetype": "text/x-python",
   "name": "python",
   "nbconvert_exporter": "python",
   "pygments_lexer": "ipython3",
   "version": "3.11.7"
  }
 },
 "nbformat": 4,
 "nbformat_minor": 5
}
