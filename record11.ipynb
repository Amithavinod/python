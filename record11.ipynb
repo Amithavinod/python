{
 "cells": [
  {
   "cell_type": "code",
   "execution_count": 1,
   "id": "8f80b9ec-942c-4080-a247-3fa901ea5065",
   "metadata": {},
   "outputs": [
    {
     "name": "stdin",
     "output_type": "stream",
     "text": [
      "enter the line of text: amitha is amitha\n"
     ]
    },
    {
     "name": "stdout",
     "output_type": "stream",
     "text": [
      "the line of text is : amitha is amitha\n",
      "count of occurrences of each word are:\n",
      "is : 1\n",
      "amitha : 2\n"
     ]
    }
   ],
   "source": [
    "#program1\n",
    "#count the occurrences of each word in a line of text\n",
    "line=input(\"enter the line of text:\").lower()\n",
    "print(\"the line of text is :\",line)\n",
    "print(\"count of occurrences of each word are:\")\n",
    "r=set(line.split())\n",
    "for lin in r:\n",
    "    count=line.count(lin)\n",
    "    print(lin,\":\",count)"
   ]
  },
  {
   "cell_type": "code",
   "execution_count": 3,
   "id": "2ffaf063-802e-481d-86aa-41f047fdc7c6",
   "metadata": {},
   "outputs": [
    {
     "name": "stdin",
     "output_type": "stream",
     "text": [
      "enter the integers 1,2,3,100,1000\n"
     ]
    },
    {
     "name": "stdout",
     "output_type": "stream",
     "text": [
      "The list of integers is : [1, 2, 3, 100, 1000]\n",
      "replaced string [1, 2, 3, 100, 'over']\n"
     ]
    }
   ],
   "source": [
    "#program2\n",
    "#prompt the user for a list of integers. for all values greater than 100, store 'over' instead\n",
    "n=list(map(int,input(\"enter the integers\").split(\",\")))\n",
    "print(\"The list of integers is :\",n)\n",
    "c=[]\n",
    "for i in n:\n",
    "    if i>100:\n",
    "        c.append(\"over\")\n",
    "    else:\n",
    "        c.append(i)\n",
    "print(\"replaced string\",c)"
   ]
  },
  {
   "cell_type": "code",
   "execution_count": 4,
   "id": "3b8350ab-b1da-421b-8519-71e17c380ba7",
   "metadata": {},
   "outputs": [
    {
     "name": "stdin",
     "output_type": "stream",
     "text": [
      "enter the first names amitha,abhay,dhrishya\n"
     ]
    },
    {
     "name": "stdout",
     "output_type": "stream",
     "text": [
      "list of first names is ['amitha,abhay,dhrishya']\n",
      "the occurences of 'a'is: 5\n"
     ]
    }
   ],
   "source": [
    "#program3\n",
    "#store the list of first names,count the occurences of 'a' within the list\n",
    "l=input(\"enter the first names\").lower().split(\" \")\n",
    "print(\"list of first names is\",l)\n",
    "a=0\n",
    "for c in l:\n",
    "    a+=c.count(\"a\")\n",
    "print(\"the occurences of 'a'is:\",a)   "
   ]
  },
  {
   "cell_type": "code",
   "execution_count": 5,
   "id": "10037bdb-d86b-419a-91b0-c3a282554b73",
   "metadata": {},
   "outputs": [
    {
     "name": "stdin",
     "output_type": "stream",
     "text": [
      "enter first numbers 5\n",
      "enter second number 4\n"
     ]
    },
    {
     "name": "stdout",
     "output_type": "stream",
     "text": [
      "first number is 5\n",
      "second number is 4\n",
      "GCD is 1\n"
     ]
    }
   ],
   "source": [
    "#program4\n",
    "#find gcd of 2 numbers\n",
    "a=int(input(\"enter first numbers\"))\n",
    "b=int(input(\"enter second number\"))\n",
    "print(\"first number is\",a)\n",
    "print(\"second number is\",b)\n",
    "while b!=0:\n",
    "    a,b=b,a%b\n",
    "print(\"GCD is\",a)"
   ]
  },
  {
   "cell_type": "code",
   "execution_count": 6,
   "id": "8d0f5d2d-9dde-4325-aa6e-cdc532b17354",
   "metadata": {},
   "outputs": [
    {
     "name": "stdin",
     "output_type": "stream",
     "text": [
      "enter the list of integers: 1,2,3,4,5\n"
     ]
    },
    {
     "name": "stdout",
     "output_type": "stream",
     "text": [
      "The list of integers is : [1, 2, 3, 4, 5]\n",
      "A list of removing the even numbers is: [1, 3, 5]\n"
     ]
    }
   ],
   "source": [
    "#program5\n",
    "#from the list of integers,create a list removing even numbers\n",
    "l=list(map(int,input(\"enter the list of integers:\").split(\",\")))\n",
    "print(\"The list of integers is :\",l)\n",
    "b=[]\n",
    "for i in l:\n",
    "    if i%2!=0:\n",
    "        b.append(i)    \n",
    "print(\"A list of removing the even numbers is:\",b)"
   ]
  },
  {
   "cell_type": "code",
   "execution_count": 23,
   "id": "cbe43397-969c-4bff-ad5c-ac083ad867f4",
   "metadata": {},
   "outputs": [
    {
     "name": "stdin",
     "output_type": "stream",
     "text": [
      "enter the number: 6\n"
     ]
    },
    {
     "name": "stdout",
     "output_type": "stream",
     "text": [
      "the factorial of 6  is 720\n"
     ]
    }
   ],
   "source": [
    "#program6\n",
    "#program to find the factorial of a number\n",
    "n=int(input(\"enter the number:\"))\n",
    "m=1\n",
    "for i in range(1,n+1):\n",
    "    m*=i\n",
    "print(\"the factorial of\",n,\" is\",m)"
   ]
  },
  {
   "cell_type": "code",
   "execution_count": 13,
   "id": "2f5fe628-ff34-4761-ad38-e830cefb5521",
   "metadata": {},
   "outputs": [
    {
     "name": "stdin",
     "output_type": "stream",
     "text": [
      "enter the number of terms 5\n"
     ]
    },
    {
     "name": "stdout",
     "output_type": "stream",
     "text": [
      "the number of terms is 5\n",
      "fibonacci series is\n",
      "0 1 1 2 3 "
     ]
    }
   ],
   "source": [
    "#program7\n",
    "#generate the fibonacci series of N terms\n",
    "n=int(input(\"enter the number of terms\"))\n",
    "print(\"the number of terms is\",n)\n",
    "a=0\n",
    "b=1\n",
    "print(\"fibonacci series is\")\n",
    "for i in range(n):\n",
    "    print(a,end=' ')\n",
    "    temp=a+b\n",
    "    a=b\n",
    "    b=temp"
   ]
  },
  {
   "cell_type": "code",
   "execution_count": 11,
   "id": "86ba92b0-2952-44a0-ac3d-f4e114035cd6",
   "metadata": {},
   "outputs": [
    {
     "name": "stdin",
     "output_type": "stream",
     "text": [
      "enter the item 1,2,436\n"
     ]
    },
    {
     "name": "stdout",
     "output_type": "stream",
     "text": [
      "The items of list is: [1, 2, 436]\n",
      "sum of all items in the list is: 439\n"
     ]
    }
   ],
   "source": [
    "#program8\n",
    "#find the sum of all items in a list\n",
    "l=list(map(int,input(\"enter the item\").split(\",\")))\n",
    "print(\"The items of list is:\",l)\n",
    "c=0\n",
    "for i in l:\n",
    "    c+=i\n",
    "print(\"sum of all items in the list is:\",c)"
   ]
  },
  {
   "cell_type": "code",
   "execution_count": 24,
   "id": "679c01cb-94ac-4b60-8680-01fbbf7348fd",
   "metadata": {},
   "outputs": [
    {
     "name": "stdin",
     "output_type": "stream",
     "text": [
      "enter the starting four digit number: 1000\n",
      "enter the ending four digit number 9999\n"
     ]
    },
    {
     "name": "stdout",
     "output_type": "stream",
     "text": [
      "The numbers of digits even and perfect square are \n",
      "4624\n",
      "6084\n",
      "6400\n",
      "8464\n"
     ]
    }
   ],
   "source": [
    "#program9\n",
    "#generate a list of four digit numbers in a given range with all their digits even and the number is a perfect square\n",
    "import math\n",
    "n=int(input(\"enter the starting four digit number:\"))\n",
    "m=int(input(\"enter the ending four digit number\"))\n",
    "c=0\n",
    "print(\"The numbers of digits even and perfect square are \")\n",
    "for i in range(n,m+1):\n",
    "    root=int(math.sqrt(i))\n",
    "    if root*root==i:\n",
    "        for j in str(i):\n",
    "            if int(j)%2!=0:\n",
    "                break\n",
    "        else:\n",
    "            print(i)\n",
    "            c=1\n",
    "if not c:\n",
    "    print(\"not found\")\n",
    "    "
   ]
  },
  {
   "cell_type": "code",
   "execution_count": 16,
   "id": "924440a1-acd2-4b35-a8a4-563ad8a3e8d4",
   "metadata": {},
   "outputs": [
    {
     "name": "stdin",
     "output_type": "stream",
     "text": [
      "enter the string: amitha\n"
     ]
    },
    {
     "name": "stdout",
     "output_type": "stream",
     "text": [
      "character freequency is:\n",
      "a : 2\n",
      "m : 1\n",
      "i : 1\n",
      "t : 1\n",
      "h : 1\n"
     ]
    }
   ],
   "source": [
    "#program10\n",
    "#count the number of characters (character freequency) in a string\n",
    "s=input(\"enter the string:\").lower()\n",
    "r={}\n",
    "for i in s:\n",
    "    if i in r:\n",
    "        r[i]+=1\n",
    "    else:\n",
    "        r[i]=1\n",
    "print(\"character freequency is:\")\n",
    "for j in r:\n",
    "    print(j,\":\",r[j])"
   ]
  },
  {
   "cell_type": "code",
   "execution_count": 21,
   "id": "bff76c09-987a-4f96-be6f-bd4c142dc9aa",
   "metadata": {},
   "outputs": [
    {
     "name": "stdin",
     "output_type": "stream",
     "text": [
      "enter the number of steps: 4\n"
     ]
    },
    {
     "name": "stdout",
     "output_type": "stream",
     "text": [
      "1\n",
      "2 4\n",
      "3 6 9\n",
      "4 8 12 16\n"
     ]
    }
   ],
   "source": [
    "#program 11\n",
    "#display the given pyramid ith step number accepted by the user\n",
    "#1\n",
    "#2 4\n",
    "#3 6 9\n",
    "#4 8 12 16\n",
    "N=int(input(\"enter the number of steps:\"))\n",
    "for i in range(1,N+1):\n",
    "    print(\" \".join([str(i*j)for j in range(1,i+1)]))"
   ]
  },
  {
   "cell_type": "code",
   "execution_count": null,
   "id": "2f00227e-073c-48f2-bcc0-38c60951c88a",
   "metadata": {},
   "outputs": [],
   "source": []
  }
 ],
 "metadata": {
  "kernelspec": {
   "display_name": "Python 3 (ipykernel)",
   "language": "python",
   "name": "python3"
  },
  "language_info": {
   "codemirror_mode": {
    "name": "ipython",
    "version": 3
   },
   "file_extension": ".py",
   "mimetype": "text/x-python",
   "name": "python",
   "nbconvert_exporter": "python",
   "pygments_lexer": "ipython3",
   "version": "3.11.7"
  }
 },
 "nbformat": 4,
 "nbformat_minor": 5
}
