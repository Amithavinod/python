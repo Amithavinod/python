{
 "cells": [
  {
   "cell_type": "code",
   "execution_count": 2,
   "id": "4ad035d3-89ef-409b-bbd1-d202fba71656",
   "metadata": {},
   "outputs": [
    {
     "name": "stdout",
     "output_type": "stream",
     "text": [
      "1.rectangle\n",
      "2.circle\n",
      "3.exit\n"
     ]
    },
    {
     "name": "stdin",
     "output_type": "stream",
     "text": [
      "enter your choice 1\n",
      "enter the length 1\n",
      "enter the breadth 1\n"
     ]
    },
    {
     "name": "stdout",
     "output_type": "stream",
     "text": [
      "Area of rectangle: 1\n",
      "perimeter of circle 2\n",
      "1.rectangle\n",
      "2.circle\n",
      "3.exit\n"
     ]
    },
    {
     "name": "stdin",
     "output_type": "stream",
     "text": [
      "enter your choice 2\n",
      "enter the radius 2\n"
     ]
    },
    {
     "name": "stdout",
     "output_type": "stream",
     "text": [
      "Area of circle 12.56\n",
      "primeter of circle 12.56\n",
      "1.rectangle\n",
      "2.circle\n",
      "3.exit\n"
     ]
    },
    {
     "name": "stdin",
     "output_type": "stream",
     "text": [
      "enter your choice 3\n"
     ]
    },
    {
     "name": "stdout",
     "output_type": "stream",
     "text": [
      "existing...\n"
     ]
    }
   ],
   "source": [
    "import rect\n",
    "import circle\n",
    "while(1):\n",
    "    print(\"1.rectangle\\n2.circle\\n3.exit\")\n",
    "    a=int(input(\"enter your choice\"))\n",
    "    if(a==1):\n",
    "        l=int(input(\"enter the length\"))\n",
    "        b=int(input(\"enter the breadth\"))\n",
    "        rect.rectarea(l,b)\n",
    "        rect.recperi(l,b)\n",
    "    elif(a==2):\n",
    "        r=float(input(\"enter the radius\"))\n",
    "        circle.cirarea(r)\n",
    "        circle.cirperi(r)\n",
    "    else:\n",
    "        print(\"existing...\")\n",
    "        break\n",
    "    "
   ]
  },
  {
   "cell_type": "code",
   "execution_count": null,
   "id": "60bb3357-0fda-4c88-a764-fb100807f1f0",
   "metadata": {},
   "outputs": [],
   "source": []
  }
 ],
 "metadata": {
  "kernelspec": {
   "display_name": "Python 3 (ipykernel)",
   "language": "python",
   "name": "python3"
  },
  "language_info": {
   "codemirror_mode": {
    "name": "ipython",
    "version": 3
   },
   "file_extension": ".py",
   "mimetype": "text/x-python",
   "name": "python",
   "nbconvert_exporter": "python",
   "pygments_lexer": "ipython3",
   "version": "3.11.7"
  }
 },
 "nbformat": 4,
 "nbformat_minor": 5
}
