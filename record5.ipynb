{
 "cells": [
  {
   "cell_type": "code",
   "execution_count": 8,
   "id": "c7911cd3-a894-4cc5-984d-05db1c92f212",
   "metadata": {},
   "outputs": [
    {
     "name": "stdin",
     "output_type": "stream",
     "text": [
      "enter list of colors is: red,yellow,green,black\n"
     ]
    },
    {
     "name": "stdout",
     "output_type": "stream",
     "text": [
      "the first and last color of the listis: red,black\n"
     ]
    }
   ],
   "source": [
    "#create a list of colors from comma-seperated color names entered by user. display first and last colors\n",
    "col=input(\"enter list of colors is:\")\n",
    "n=col.split(\",\")\n",
    "f=n[0]\n",
    "l=n[-1]\n",
    "print(\"the first and last color of the listis:\",f+\",\"+l)"
   ]
  },
  {
   "cell_type": "code",
   "execution_count": 10,
   "id": "5dd63341-d9ce-4380-91ee-07cbb17b8d1d",
   "metadata": {},
   "outputs": [
    {
     "name": "stdin",
     "output_type": "stream",
     "text": [
      "enter a filename: amitha.c\n"
     ]
    },
    {
     "name": "stdout",
     "output_type": "stream",
     "text": [
      "extenshion is: c\n"
     ]
    }
   ],
   "source": [
    "#write a pytghon program to accept a filename from the user.print extension of that\n",
    "filename=input(\"enter a filename:\")\n",
    "n1=filename.split(\".\")\n",
    "print(\"extenshion is:\",n1[-1])"
   ]
  },
  {
   "cell_type": "code",
   "execution_count": 15,
   "id": "8f50ea02-fcb0-420c-ae4b-496624dd8d1e",
   "metadata": {},
   "outputs": [
    {
     "name": "stdin",
     "output_type": "stream",
     "text": [
      "input comma seperated numbers: 1,2,3,4\n"
     ]
    },
    {
     "name": "stdout",
     "output_type": "stream",
     "text": [
      "sum is: 10\n"
     ]
    }
   ],
   "source": [
    "#write a python program which accepts a sequence of comma-seperated numbers from user and generate a list with those numbers and find sum of all items in that list\n",
    "numbers=input(\"input comma seperated numbers:\")\n",
    "num=sum(list(map(int,numbers.split(\",\"))))\n",
    "print(\"sum is:\",num)"
   ]
  },
  {
   "cell_type": "code",
   "execution_count": null,
   "id": "644d5e59-0e31-451f-8b84-ff9bc04a37be",
   "metadata": {},
   "outputs": [],
   "source": []
  }
 ],
 "metadata": {
  "kernelspec": {
   "display_name": "Python 3 (ipykernel)",
   "language": "python",
   "name": "python3"
  },
  "language_info": {
   "codemirror_mode": {
    "name": "ipython",
    "version": 3
   },
   "file_extension": ".py",
   "mimetype": "text/x-python",
   "name": "python",
   "nbconvert_exporter": "python",
   "pygments_lexer": "ipython3",
   "version": "3.11.7"
  }
 },
 "nbformat": 4,
 "nbformat_minor": 5
}
