{
 "cells": [
  {
   "cell_type": "code",
   "execution_count": 6,
   "id": "878812b4-551e-4a38-99db-9b602818168f",
   "metadata": {},
   "outputs": [
    {
     "name": "stdin",
     "output_type": "stream",
     "text": [
      "enter the keys: 1,2,3\n",
      "enter the values amitha,dhrishya,abhay\n"
     ]
    },
    {
     "name": "stdout",
     "output_type": "stream",
     "text": [
      "dictionaries is {'1': 'amitha', '2': 'dhrishya', '3': 'abhay'}\n",
      "the acending order is: {'1': 'amitha', '2': 'dhrishya', '3': 'abhay'}\n",
      "the decending order is {'3': 'abhay', '2': 'dhrishya', '1': 'amitha'}\n"
     ]
    }
   ],
   "source": [
    "#write a python program to accepts 5 students name and roll number,map these into dictionary (roll as key,name as value).\n",
    "#sort the dictionary in ascending and descending order of their roll number[use sorted()]\n",
    "roll=input(\"enter the keys:\").split(\",\")\n",
    "name=input(\"enter the values\").split(\",\")\n",
    "d=dict(zip(roll,name))\n",
    "print(\"dictionaries is\",d)\n",
    "print(\"the acending order is:\",dict(sorted(d.items())))\n",
    "print(\"the decending order is\",dict(sorted(d.items(),reverse=-1)))"
   ]
  },
  {
   "cell_type": "code",
   "execution_count": 6,
   "id": "f203b890-d379-44a1-bb42-0d15582257b1",
   "metadata": {},
   "outputs": [
    {
     "name": "stdin",
     "output_type": "stream",
     "text": [
      "enter the names of dict1 : a,b,c\n",
      "enter the roll number of dict1 : 1,2,3\n",
      "enter the names of dict2 : d,e\n",
      "enter the roll number of dict 2 : 4,5\n"
     ]
    },
    {
     "name": "stdout",
     "output_type": "stream",
     "text": [
      "dictionary 1 is : {'a': '1', 'b': '2', 'c': '3', 'd': '4', 'e': '5'}\n",
      "dictionary 2 is : {'d': '4', 'e': '5'}\n",
      "merged dictionary is : {'a': '1', 'b': '2', 'c': '3', 'd': '4', 'e': '5'}\n"
     ]
    }
   ],
   "source": [
    "#write a python program to accept 2 dictionaries (dict1 contains 3 student's names and roll numbers,and dict2 contains 2 student's name and roll number).merge 2 dictionaries and display it [use update()]\n",
    "n1=input(\"enter the names of dict1 :\").split(\",\")\n",
    "r1=input(\"enter the roll number of dict1 :\").split(\",\")\n",
    "dict1=dict(zip(n1,r1))\n",
    "n2=input(\"enter the names of dict2 :\").split(\",\")\n",
    "r2=input(\"enter the roll number of dict 2 :\").split(\",\")\n",
    "dict2=dict(zip(n2,r2))\n",
    "merge=dict1.update(dict2)\n",
    "merged=dict1\n",
    "print(\"dictionary 1 is :\",dict1)\n",
    "print(\"dictionary 2 is :\",dict2)\n",
    "print(\"merged dictionary is :\",merged)"
   ]
  },
  {
   "cell_type": "code",
   "execution_count": null,
   "id": "2ac0eed7-5616-4c34-9164-3b4a1abc99c5",
   "metadata": {},
   "outputs": [],
   "source": []
  }
 ],
 "metadata": {
  "kernelspec": {
   "display_name": "Python 3 (ipykernel)",
   "language": "python",
   "name": "python3"
  },
  "language_info": {
   "codemirror_mode": {
    "name": "ipython",
    "version": 3
   },
   "file_extension": ".py",
   "mimetype": "text/x-python",
   "name": "python",
   "nbconvert_exporter": "python",
   "pygments_lexer": "ipython3",
   "version": "3.11.7"
  }
 },
 "nbformat": 4,
 "nbformat_minor": 5
}
