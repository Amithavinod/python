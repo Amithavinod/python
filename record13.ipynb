{
 "cells": [
  {
   "cell_type": "code",
   "execution_count": 4,
   "id": "b5ca242d-1a43-4ad0-abaf-a91266d9663e",
   "metadata": {},
   "outputs": [
    {
     "name": "stdin",
     "output_type": "stream",
     "text": [
      "enter the list of words: i can manage\n"
     ]
    },
    {
     "name": "stdout",
     "output_type": "stream",
     "text": [
      "length of longest word from the list of words is 6\n"
     ]
    }
   ],
   "source": [
    "#accept a list of words and return length of longest word\n",
    "s=input(\"enter the list of words:\").split(\" \")\n",
    "def length(s):\n",
    "    return(max(len(i.strip())for i in s))\n",
    "v=length(s)\n",
    "print(\"length of longest word from the list of words is\",v)"
   ]
  },
  {
   "cell_type": "code",
   "execution_count": 12,
   "id": "232e8e19-2d23-4482-b4fa-ace45169ecc4",
   "metadata": {},
   "outputs": [
    {
     "name": "stdin",
     "output_type": "stream",
     "text": [
      "enter the number of longest row 5\n"
     ]
    },
    {
     "name": "stdout",
     "output_type": "stream",
     "text": [
      "* \n",
      "* * \n",
      "* * * \n",
      "* * * * \n",
      "* * * * * \n",
      "* * * * \n",
      "* * * \n",
      "* * \n",
      "* \n"
     ]
    }
   ],
   "source": [
    "#construct the following pattern using nested loop\n",
    "#*\n",
    "#* *\n",
    "#* * *\n",
    "#* * * *\n",
    "#* * * * *\n",
    "#* * * *\n",
    "#* * *\n",
    "#* *\n",
    "#*\n",
    "row=int(input(\"enter the number of longest row\"))\n",
    "def pattern(row):\n",
    "    for i in range(1,row+1):\n",
    "        for j in range(i):\n",
    "            print(\"*\",end=' ')\n",
    "        print()\n",
    "    for i in range(row-1,0,-1):\n",
    "        for j in range(i):\n",
    "            print(\"*\",end=' ')\n",
    "        print()\n",
    "pattern(row)"
   ]
  },
  {
   "cell_type": "code",
   "execution_count": 4,
   "id": "08b89c78-c119-4ab4-a887-ece8b72ed1e4",
   "metadata": {},
   "outputs": [
    {
     "name": "stdin",
     "output_type": "stream",
     "text": [
      "enter the number 15\n"
     ]
    },
    {
     "name": "stdout",
     "output_type": "stream",
     "text": [
      "the factors of 15 are\n",
      "1\n",
      "3\n",
      "5\n",
      "15\n"
     ]
    }
   ],
   "source": [
    "#generate all factors of a number\n",
    "n=int(input(\"enter the number\"))\n",
    "print(\"the factors of\",n,\"are\")\n",
    "def factor(n):\n",
    "    for i in range(1,n+1):\n",
    "        if n%i==0:\n",
    "            print(i)\n",
    "factor(n)"
   ]
  },
  {
   "cell_type": "code",
   "execution_count": 6,
   "id": "e3396407-3c35-4399-a1e2-8dd3703d942a",
   "metadata": {},
   "outputs": [
    {
     "name": "stdin",
     "output_type": "stream",
     "text": [
      "enter the side of suare: 2\n",
      "enter the side of rectangle: 2\n",
      "enter the breadth of rectangle: 2\n",
      "enter the base of triangle: 2\n",
      "enter the height of triangle: 2\n"
     ]
    },
    {
     "name": "stdout",
     "output_type": "stream",
     "text": [
      "The area of the square is: 4.0\n",
      "The area of the rectangle is: 4.0\n",
      "The area of the triangle is: 2.0\n"
     ]
    }
   ],
   "source": [
    "#write lambda functions to find area of squares,rectangle and triangle\n",
    "square=lambda s:side*side\n",
    "rectangle=lambda l,b:length*breadth\n",
    "triangle=lambda b,h:0.5*base*height\n",
    "side=float(input(\"enter the side of suare:\"))\n",
    "length=float(input(\"enter the side of rectangle:\"))\n",
    "breadth=float(input(\"enter the breadth of rectangle:\"))\n",
    "base=float(input(\"enter the base of triangle:\"))\n",
    "height=float(input(\"enter the height of triangle:\"))\n",
    "print(\"The area of the square is:\",square(side))\n",
    "print(\"The area of the rectangle is:\",rectangle(length,breadth))\n",
    "print(\"The area of the triangle is:\",triangle(base,height))"
   ]
  },
  {
   "cell_type": "code",
   "execution_count": null,
   "id": "c9e90a12-8dbe-484a-9531-1ab94c0d8023",
   "metadata": {},
   "outputs": [],
   "source": []
  }
 ],
 "metadata": {
  "kernelspec": {
   "display_name": "Python 3 (ipykernel)",
   "language": "python",
   "name": "python3"
  },
  "language_info": {
   "codemirror_mode": {
    "name": "ipython",
    "version": 3
   },
   "file_extension": ".py",
   "mimetype": "text/x-python",
   "name": "python",
   "nbconvert_exporter": "python",
   "pygments_lexer": "ipython3",
   "version": "3.11.7"
  }
 },
 "nbformat": 4,
 "nbformat_minor": 5
}
