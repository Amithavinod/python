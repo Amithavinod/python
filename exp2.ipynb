{
 "cells": [
  {
   "cell_type": "code",
   "execution_count": 13,
   "id": "6e9b1549-ba97-447e-a1ab-7fad2addb970",
   "metadata": {},
   "outputs": [
    {
     "name": "stdin",
     "output_type": "stream",
     "text": [
      "Enter the celesius: 33\n"
     ]
    },
    {
     "name": "stdout",
     "output_type": "stream",
     "text": [
      " 33.0 celesius=  91.4 fehrenheit\n"
     ]
    }
   ],
   "source": [
    "#python program to convert celesius to fahrenheit\n",
    "t=float(input(\"Enter the celesius:\"))\n",
    "f=round(t*9/5+32,2)\n",
    "print(\"\",t,\"celesius=\",\"\",f,\"fehrenheit\")     "
   ]
  },
  {
   "cell_type": "code",
   "execution_count": 12,
   "id": "fa02aa4d-cee5-493d-b04f-8bd405142f4f",
   "metadata": {},
   "outputs": [
    {
     "name": "stdin",
     "output_type": "stream",
     "text": [
      "Enter the kilometers: 333\n"
     ]
    },
    {
     "name": "stdout",
     "output_type": "stream",
     "text": [
      " 333.0 kilometers =  206.92 miles\n"
     ]
    }
   ],
   "source": [
    "#program to convert kilometers to miles\n",
    "k=float(input(\"Enter the kilometers:\"))\n",
    "m=round(k*0.62137,2)\n",
    "print(\"\",k,\"kilometers =\",\"\",m,\"miles\")"
   ]
  },
  {
   "cell_type": "code",
   "execution_count": null,
   "id": "63d95893-eb2c-4b70-9f5b-a13135a35539",
   "metadata": {},
   "outputs": [],
   "source": []
  }
 ],
 "metadata": {
  "kernelspec": {
   "display_name": "Python 3 (ipykernel)",
   "language": "python",
   "name": "python3"
  },
  "language_info": {
   "codemirror_mode": {
    "name": "ipython",
    "version": 3
   },
   "file_extension": ".py",
   "mimetype": "text/x-python",
   "name": "python",
   "nbconvert_exporter": "python",
   "pygments_lexer": "ipython3",
   "version": "3.11.7"
  }
 },
 "nbformat": 4,
 "nbformat_minor": 5
}
