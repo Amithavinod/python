{
 "cells": [
  {
   "cell_type": "code",
   "execution_count": 5,
   "id": "436c1cfd-b557-4ed0-8428-a0b29f8e7a88",
   "metadata": {},
   "outputs": [
    {
     "name": "stdin",
     "output_type": "stream",
     "text": [
      "Enter the publishers AA\n",
      "Enter the title of book AAMM\n",
      "Enter the author of book AAMMI\n",
      "Enter the rate of book 1250\n",
      "Enter the no of pages of book 250\n"
     ]
    },
    {
     "name": "stdout",
     "output_type": "stream",
     "text": [
      "BOOK DETAILS\n",
      "publisher is : AA\n",
      "title is : AAMM\n",
      "author is : AAMMI\n",
      "price is :Rs 1250.0\n",
      "no of pages is : 250\n"
     ]
    }
   ],
   "source": [
    "#create a clas  publisher(name),Derive class book from publisher with attributes title and author.Derive class python from book with attributes price and no of pages.write a program that displays information about a python book.use base class constructor invocation and method overriding\n",
    "class publisher:\n",
    "    def __init__(self,name):\n",
    "        self.name=name\n",
    "    def display(self):\n",
    "        print(\"publisher is :\",self.name)\n",
    "class book(publisher):\n",
    "    def __init__(self,name,title,author):\n",
    "        super().__init__(name)\n",
    "        self.title=title\n",
    "        self.author=author\n",
    "    def display(self):\n",
    "        super().display()\n",
    "        print(\"title is :\",self.title)\n",
    "        print(\"author is :\",self.author)\n",
    "class python(book):\n",
    "    def __init__(self,name,title,author,price,npage):\n",
    "        super().__init__(name,title,author)\n",
    "        self.price=price\n",
    "        self.npage=npage\n",
    "    def display(self):\n",
    "        super().display()\n",
    "        print(\"price is :Rs\",self.price)\n",
    "        print(\"no of pages is :\",self.npage)\n",
    "p=input(\"Enter the publishers\")\n",
    "u=input(\"Enter the title of book\")\n",
    "b=input(\"Enter the author of book\")\n",
    "l=float(input(\"Enter the rate of book\"))\n",
    "i=int(input(\"Enter the no of pages of book\"))\n",
    "print(\"BOOK DETAILS\")\n",
    "e=python(p,u,b,l,i)\n",
    "e.display()\n",
    "        "
   ]
  },
  {
   "cell_type": "code",
   "execution_count": null,
   "id": "b07d3bb6-5562-4829-abd1-77415a00c194",
   "metadata": {},
   "outputs": [],
   "source": []
  }
 ],
 "metadata": {
  "kernelspec": {
   "display_name": "Python 3 (ipykernel)",
   "language": "python",
   "name": "python3"
  },
  "language_info": {
   "codemirror_mode": {
    "name": "ipython",
    "version": 3
   },
   "file_extension": ".py",
   "mimetype": "text/x-python",
   "name": "python",
   "nbconvert_exporter": "python",
   "pygments_lexer": "ipython3",
   "version": "3.11.7"
  }
 },
 "nbformat": 4,
 "nbformat_minor": 5
}
