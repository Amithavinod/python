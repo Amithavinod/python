{
 "cells": [
  {
   "cell_type": "code",
   "execution_count": 15,
   "id": "80407b86-beca-4992-91de-f138d77be0d6",
   "metadata": {},
   "outputs": [
    {
     "name": "stdin",
     "output_type": "stream",
     "text": [
      "enter the string python\n"
     ]
    },
    {
     "name": "stdout",
     "output_type": "stream",
     "text": [
      "converted string is nythop\n"
     ]
    }
   ],
   "source": [
    "#write a python to change a given string to a new string where the first and last chars have been exchanged(eg:python=nythonp)\n",
    "n=input(\"enter the string:\")\n",
    "a=n[0:1]\n",
    "b=n[-1:]\n",
    "c=n[1:-1]\n",
    "print(\"converted string is:\",b+c+a)"
   ]
  },
  {
   "cell_type": "code",
   "execution_count": 18,
   "id": "42f33819-b5bf-4325-9237-5b1fbe54e2e0",
   "metadata": {},
   "outputs": [
    {
     "name": "stdin",
     "output_type": "stream",
     "text": [
      "enter the string character\n"
     ]
    },
    {
     "name": "stdout",
     "output_type": "stream",
     "text": [
      "The first 2 and last 2 of the given string is cher\n"
     ]
    }
   ],
   "source": [
    "#write a python program to get a string made of the first 2 and the last 2 chars from the given a string\n",
    "n=input(\"enter the string:\")\n",
    "a=n[0:2]\n",
    "b=n[-2:]\n",
    "c=a+b\n",
    "print(\"The first 2 and last 2 of the given string is:\",c)"
   ]
  },
  {
   "cell_type": "code",
   "execution_count": 20,
   "id": "461ae6e5-f241-4990-9e3e-e1d2915ff427",
   "metadata": {},
   "outputs": [
    {
     "name": "stdin",
     "output_type": "stream",
     "text": [
      "enter the string: amitha\n",
      "enter the second string: dhrishya\n"
     ]
    },
    {
     "name": "stdout",
     "output_type": "stream",
     "text": [
      "single string by swaping first two characters of two diferent string and seperated by a space is: dhitha amrishya\n"
     ]
    }
   ],
   "source": [
    "#write a python program to get a single string from two given strings,separated by a space and a swap the first two characters of each string\n",
    "n=input(\"enter the string:\")\n",
    "m=input(\"enter the second string:\")\n",
    "b=n[0:2]\n",
    "c=n[2:]\n",
    "y=m[0:2]\n",
    "z=m[2:]\n",
    "string=y+c+\" \"+b+z\n",
    "print(\"single string by swaping first two characters of two diferent string and seperated by a space is:\",string)"
   ]
  },
  {
   "cell_type": "code",
   "execution_count": 19,
   "id": "1f3e8b99-decf-4e01-88bf-f791cee97f07",
   "metadata": {},
   "outputs": [
    {
     "name": "stdin",
     "output_type": "stream",
     "text": [
      "enter a string: amitha\n"
     ]
    },
    {
     "name": "stdout",
     "output_type": "stream",
     "text": [
      "replaced string is: amith$\n"
     ]
    }
   ],
   "source": [
    "#write a python program to get a string from a given string where all the occurrences of its first char have been changed to $,except the first char itself(use replace())[ex:onion=oni$n]\n",
    "n=input(\"enter a string:\")\n",
    "o=n[0]\n",
    "n=n.replace(o,\"$\")\n",
    "print(\"replaced string is:\",o+n[1:])"
   ]
  },
  {
   "cell_type": "code",
   "execution_count": null,
   "id": "760dc2d3-5425-46d0-aa20-4e95068cd056",
   "metadata": {},
   "outputs": [],
   "source": []
  }
 ],
 "metadata": {
  "kernelspec": {
   "display_name": "Python 3 (ipykernel)",
   "language": "python",
   "name": "python3"
  },
  "language_info": {
   "codemirror_mode": {
    "name": "ipython",
    "version": 3
   },
   "file_extension": ".py",
   "mimetype": "text/x-python",
   "name": "python",
   "nbconvert_exporter": "python",
   "pygments_lexer": "ipython3",
   "version": "3.11.7"
  }
 },
 "nbformat": 4,
 "nbformat_minor": 5
}
