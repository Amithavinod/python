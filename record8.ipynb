{
 "cells": [
  {
   "cell_type": "code",
   "execution_count": 5,
   "id": "358ae66c-ad68-4afa-9d2b-3eca5a22b5b5",
   "metadata": {},
   "outputs": [
    {
     "name": "stdin",
     "output_type": "stream",
     "text": [
      "enter set 1 colors: white,red,purple\n",
      "enter set 2 colors: white,red,green\n"
     ]
    },
    {
     "name": "stdout",
     "output_type": "stream",
     "text": [
      "set 1 colors: {'red', 'white', 'purple'}\n",
      "set 2 colors {'red', 'white', 'green'}\n",
      "printout all colors from set 1 and not contained in set 2: {'purple'}\n"
     ]
    }
   ],
   "source": [
    "#write a python program to printout all colors from set 1 not contained in color set 2\n",
    "s=set(input(\"enter set 1 colors:\").split(\",\"))\n",
    "t=set(input(\"enter set 2 colors:\").split(\",\"))\n",
    "print(\"set 1 colors:\",s)\n",
    "print(\"set 2 colors\",t)\n",
    "print(\"printout all colors from set 1 and not contained in set 2:\",s.difference(t))"
   ]
  },
  {
   "cell_type": "code",
   "execution_count": 6,
   "id": "7308c84f-6933-4d6e-9334-663552e52b7f",
   "metadata": {},
   "outputs": [
    {
     "name": "stdin",
     "output_type": "stream",
     "text": [
      "enter the set 1 colors: white,red,purple\n",
      "enter the set 2 colors: white,red,green\n"
     ]
    },
    {
     "name": "stdout",
     "output_type": "stream",
     "text": [
      "set 1 colors: {'red', 'white', 'purple'}\n",
      "set 2 colors: {'red', 'white', 'green'}\n",
      "printout all colors in set1 and set 2 are: {'red', 'white', 'purple', 'green'}\n"
     ]
    }
   ],
   "source": [
    "#write a python program to printout all colors from color set 1 and color set 2\n",
    "s=set(input(\"enter the set 1 colors:\").split(\",\"))\n",
    "t= set(input(\"enter the set 2 colors:\").split(\",\"))\n",
    "print(\"set 1 colors:\",s)\n",
    "print(\"set 2 colors:\",t)\n",
    "print(\"printout all colors in set1 and set 2 are:\",s|t)"
   ]
  },
  {
   "cell_type": "code",
   "execution_count": null,
   "id": "123f1c6f-63e5-4be3-b650-cf73dae6823a",
   "metadata": {},
   "outputs": [],
   "source": []
  }
 ],
 "metadata": {
  "kernelspec": {
   "display_name": "Python 3 (ipykernel)",
   "language": "python",
   "name": "python3"
  },
  "language_info": {
   "codemirror_mode": {
    "name": "ipython",
    "version": 3
   },
   "file_extension": ".py",
   "mimetype": "text/x-python",
   "name": "python",
   "nbconvert_exporter": "python",
   "pygments_lexer": "ipython3",
   "version": "3.11.7"
  }
 },
 "nbformat": 4,
 "nbformat_minor": 5
}
