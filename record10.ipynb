{
 "cells": [
  {
   "cell_type": "code",
   "execution_count": 3,
   "id": "1a762ba5-38b2-44ad-8b8c-c9557ed785b4",
   "metadata": {},
   "outputs": [
    {
     "name": "stdin",
     "output_type": "stream",
     "text": [
      "enter the list 1: 1,2,3,4,5\n",
      "enter the list 2: 6,7,8,1,2\n"
     ]
    },
    {
     "name": "stdout",
     "output_type": "stream",
     "text": [
      "list 1 is : [1, 2, 3, 4, 5]\n",
      "list 2 is : [6, 7, 8, 1, 2]\n",
      "a)list 1 and list 2 are same length \n",
      "b)both list sum is not same\n",
      "c)list 1 and list 2 has common integer, they are {1, 2}\n"
     ]
    }
   ],
   "source": [
    "#enter 2 list of integers,check \n",
    "#(a) whether list are of same length\n",
    "#(b)whether list sums to same value \n",
    "#(c) whether any value occur in both\n",
    "l1=list(map(int,input(\"enter the list 1:\").split(\",\")))\n",
    "l2=list(map(int,input(\"enter the list 2:\").split(\",\")))\n",
    "print(\"list 1 is :\",l1)\n",
    "print(\"list 2 is :\",l2)\n",
    "if len(l1)==len(l2):\n",
    "    print(\"a)list 1 and list 2 are same length \")\n",
    "else:\n",
    "    print(\"a)list 1 and list 2 are not same length\")\n",
    "if sum(l1)==sum(l2):\n",
    "    print(\"b)both list sum is same\")\n",
    "else:\n",
    "    print(\"b)both list sum is not same\")\n",
    "if set(l1).intersection(set(l2)):\n",
    "    print(\"c)list 1 and list 2 has common integer, they are\",set(l1).intersection(set(l2)))\n",
    "else:\n",
    "    print(\"c)both has no common\")"
   ]
  },
  {
   "cell_type": "code",
   "execution_count": 1,
   "id": "b25bb278-5d5a-495f-9480-a3b2331e79fd",
   "metadata": {},
   "outputs": [
    {
     "name": "stdin",
     "output_type": "stream",
     "text": [
      "enter the string : climb\n"
     ]
    },
    {
     "name": "stdout",
     "output_type": "stream",
     "text": [
      "modified string is: climbing\n"
     ]
    }
   ],
   "source": [
    "#add \"ing\" at the end of a given string.If it already ends with \"ing\",then add \"ly\"\n",
    "s=input(\"enter the string :\")\n",
    "if s.endswith(\"ing\"):\n",
    "    print(\"modified string is:\",s+\"ly\")\n",
    "else:\n",
    "    print(\"modified string is:\",s+\"ing\")"
   ]
  },
  {
   "cell_type": "code",
   "execution_count": null,
   "id": "b582f66d-6ecc-4223-9feb-63eb65d5a35d",
   "metadata": {},
   "outputs": [],
   "source": []
  }
 ],
 "metadata": {
  "kernelspec": {
   "display_name": "Python 3 (ipykernel)",
   "language": "python",
   "name": "python3"
  },
  "language_info": {
   "codemirror_mode": {
    "name": "ipython",
    "version": 3
   },
   "file_extension": ".py",
   "mimetype": "text/x-python",
   "name": "python",
   "nbconvert_exporter": "python",
   "pygments_lexer": "ipython3",
   "version": "3.11.7"
  }
 },
 "nbformat": 4,
 "nbformat_minor": 5
}
