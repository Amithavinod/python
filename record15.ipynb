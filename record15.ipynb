{
 "cells": [
  {
   "cell_type": "code",
   "execution_count": 4,
   "id": "b6c9474e-0e1b-4ef8-aad6-ebd9de43b46a",
   "metadata": {},
   "outputs": [
    {
     "name": "stdin",
     "output_type": "stream",
     "text": [
      "Enter the length of Rectangle1: 1\n",
      "Enter the breadth of Rectangle1: 1\n",
      "Enter the length of Rectangle2: 2\n",
      "Enter the breadth of Rectangle2: 2\n"
     ]
    },
    {
     "name": "stdout",
     "output_type": "stream",
     "text": [
      "Area of Rectangle1 1\n",
      "perimeter of Reactangle2 4\n",
      "Area of Rectangle1 4\n",
      "perimeter of Reactangle2 8\n",
      "Rectangle2 is bigger\n"
     ]
    }
   ],
   "source": [
    "#create Rectangle class with attributes length and breadth and methods to find area and perimeter. compare two rectangle objects by their area\n",
    "class Rectangle:\n",
    "    def data(self,l,b):\n",
    "        self.l=l\n",
    "        self.b=b\n",
    "    def area(self):\n",
    "        return self.l*self.b\n",
    "    def peri(self):\n",
    "        return 2*(self.l+self.b)\n",
    "l1=int(input(\"Enter the length of Rectangle1:\"))\n",
    "b1=int(input(\"Enter the breadth of Rectangle1:\"))\n",
    "l2=int(input(\"Enter the length of Rectangle2:\"))\n",
    "b2=int(input(\"Enter the breadth of Rectangle2:\"))\n",
    "r1=Rectangle()\n",
    "r1.data(l1,b1)\n",
    "r2=Rectangle()\n",
    "r2.data(l2,b2)\n",
    "print(\"Area of Rectangle1\",r1.area())\n",
    "print(\"perimeter of Reactangle2\",r1.peri())\n",
    "print(\"Area of Rectangle1\",r2.area())\n",
    "print(\"perimeter of Reactangle2\",r2.peri())\n",
    "if r1.area() > r2.area():\n",
    "    print(\"Rectangle1 is bigger\")\n",
    "elif r1.area() < r2.area():\n",
    "    print(\"Rectangle2 is bigger\")\n",
    "else:\n",
    "    print(\"Both rectangles are equal in area\")"
   ]
  },
  {
   "cell_type": "code",
   "execution_count": null,
   "id": "464d8ce2-4389-4b1f-b7d8-fbeb26cf4a4e",
   "metadata": {},
   "outputs": [],
   "source": []
  }
 ],
 "metadata": {
  "kernelspec": {
   "display_name": "Python 3 (ipykernel)",
   "language": "python",
   "name": "python3"
  },
  "language_info": {
   "codemirror_mode": {
    "name": "ipython",
    "version": 3
   },
   "file_extension": ".py",
   "mimetype": "text/x-python",
   "name": "python",
   "nbconvert_exporter": "python",
   "pygments_lexer": "ipython3",
   "version": "3.11.7"
  }
 },
 "nbformat": 4,
 "nbformat_minor": 5
}
