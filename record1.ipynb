{
 "cells": [
  {
   "cell_type": "code",
   "execution_count": 6,
   "id": "8d7bfa47-3988-4297-af35-544f5d82007a",
   "metadata": {},
   "outputs": [
    {
     "name": "stdin",
     "output_type": "stream",
     "text": [
      "Enter the number n: 2\n"
     ]
    },
    {
     "name": "stdout",
     "output_type": "stream",
     "text": [
      "2 + 22 + 222 = 246\n"
     ]
    }
   ],
   "source": [
    "#write a python program that accepts an integer(n) and computes the value of n+nn+nnn\n",
    "n=int(input(\"Enter the number n:\"))\n",
    "nn=(n*10)+n\n",
    "nnn=(nn*10)+n\n",
    "sum=n+nn+nnn\n",
    "print(n,\"+\",nn,\"+\",nnn,\"=\",sum)"
   ]
  },
  {
   "cell_type": "code",
   "execution_count": 2,
   "id": "fe1d5719-f5aa-48ab-9c25-b4dd62fb7809",
   "metadata": {},
   "outputs": [
    {
     "name": "stdin",
     "output_type": "stream",
     "text": [
      "Enter the radius: 2\n"
     ]
    },
    {
     "name": "stdout",
     "output_type": "stream",
     "text": [
      "area is = 12.57\n"
     ]
    }
   ],
   "source": [
    "#input the radius of a circle and compute the area(import math)\n",
    "from math import pi\n",
    "r=int(input(\"Enter the radius:\"))\n",
    "area=pi*r*r\n",
    "result=round(area,2)\n",
    "print(\"area is =\",result)"
   ]
  },
  {
   "cell_type": "code",
   "execution_count": null,
   "id": "730cd265-ad95-4886-8b27-e11258c77662",
   "metadata": {},
   "outputs": [],
   "source": []
  }
 ],
 "metadata": {
  "kernelspec": {
   "display_name": "Python 3 (ipykernel)",
   "language": "python",
   "name": "python3"
  },
  "language_info": {
   "codemirror_mode": {
    "name": "ipython",
    "version": 3
   },
   "file_extension": ".py",
   "mimetype": "text/x-python",
   "name": "python",
   "nbconvert_exporter": "python",
   "pygments_lexer": "ipython3",
   "version": "3.11.7"
  }
 },
 "nbformat": 4,
 "nbformat_minor": 5
}
