{
 "cells": [
  {
   "cell_type": "code",
   "execution_count": 17,
   "id": "67bc047a-d3a6-4ac4-b61d-7da001a2dc62",
   "metadata": {},
   "outputs": [
    {
     "name": "stdout",
     "output_type": "stream",
     "text": [
      "4.527692569068709\n",
      "21\n",
      "20\n"
     ]
    }
   ],
   "source": [
    "#import math\n",
    "number=20.5\n",
    "r=math.sqrt(number)\n",
    "print(r)\n",
    "print(math.ceil(number))\n",
    "print(math.floor(number))"
   ]
  },
  {
   "cell_type": "raw",
   "id": "2ea4229c-649b-4447-8f1c-9a2ae6b12ea5",
   "metadata": {},
   "source": [
    "int(input(\"enter the side of length:\"))\n",
    "area=side*side\n",
    "print(\"area=\",area)"
   ]
  },
  {
   "cell_type": "markdown",
   "id": "d5606de0-9808-42d9-9b0d-dfe3574c77cc",
   "metadata": {},
   "source": []
  },
  {
   "cell_type": "code",
   "execution_count": null,
   "id": "a8728778-4c26-4c11-a5d6-30656c1ebf55",
   "metadata": {},
   "outputs": [],
   "source": []
  },
  {
   "cell_type": "raw",
   "id": "f18b2873-113e-46c9-ae93-7bb4ebe04991",
   "metadata": {},
   "source": [
    "int(input(\"enter the side of length:\"))\n",
    "area=side*side\n",
    "print(\"area=\",area)"
   ]
  },
  {
   "cell_type": "code",
   "execution_count": null,
   "id": "00b577bd-eb27-4d09-92a1-2a7ccef7bf91",
   "metadata": {},
   "outputs": [],
   "source": []
  },
  {
   "cell_type": "raw",
   "id": "301ac028-6dad-494c-9c29-b5bc527279ec",
   "metadata": {},
   "source": [
    "int(input(\"enter the side of length:\"))\n",
    "area=side*side\n",
    "print(\"area=\",area)"
   ]
  },
  {
   "cell_type": "raw",
   "id": "88a0b7a1-e566-47c1-9ad6-bf2564f38a3b",
   "metadata": {},
   "source": [
    "int(input(\"enter the side of length:\"))\n",
    "area=side*side\n",
    "print(\"area=\",area)"
   ]
  },
  {
   "cell_type": "code",
   "execution_count": 19,
   "id": "06fa7d37-03fb-46bf-b608-13bf165e290c",
   "metadata": {},
   "outputs": [
    {
     "name": "stdin",
     "output_type": "stream",
     "text": [
      "Enter the side of length: 2\n"
     ]
    },
    {
     "name": "stdout",
     "output_type": "stream",
     "text": [
      "area= 4\n"
     ]
    }
   ],
   "source": [
    "side=int(input(\"Enter the side of length:\"))\n",
    "area=side*side\n",
    "print(\"area=\",area)"
   ]
  },
  {
   "cell_type": "code",
   "execution_count": null,
   "id": "ee3d9769-8a8a-4a7e-ac36-ec2e5ff697a7",
   "metadata": {},
   "outputs": [],
   "source": []
  },
  {
   "cell_type": "code",
   "execution_count": null,
   "id": "331e8570-cb66-4e4c-9395-d6e283abf22d",
   "metadata": {},
   "outputs": [],
   "source": []
  }
 ],
 "metadata": {
  "kernelspec": {
   "display_name": "Python 3 (ipykernel)",
   "language": "python",
   "name": "python3"
  },
  "language_info": {
   "codemirror_mode": {
    "name": "ipython",
    "version": 3
   },
   "file_extension": ".py",
   "mimetype": "text/x-python",
   "name": "python",
   "nbconvert_exporter": "python",
   "pygments_lexer": "ipython3",
   "version": "3.11.7"
  }
 },
 "nbformat": 4,
 "nbformat_minor": 5
}
