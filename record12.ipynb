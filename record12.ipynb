{
 "cells": [
  {
   "cell_type": "code",
   "execution_count": 6,
   "id": "573444c0-7e96-49da-ae45-b8698bb4ba31",
   "metadata": {},
   "outputs": [
    {
     "name": "stdin",
     "output_type": "stream",
     "text": [
      "enter the list of integrs -2 -1 0 1 2 3\n"
     ]
    },
    {
     "name": "stdout",
     "output_type": "stream",
     "text": [
      "positive numbers is [1, 2, 3]\n"
     ]
    }
   ],
   "source": [
    "#list comprehensions\n",
    "#a)generate positive list of numbers from a given list of integers\n",
    "i=list(map(int,input(\"enter the list of integrs\").split()))\n",
    "positive=[j for j in i if j>0]\n",
    "print(\"a)positive numbers is\",positive)"
   ]
  },
  {
   "cell_type": "code",
   "execution_count": 12,
   "id": "87d4f474-2381-4356-a35e-5ca46315c186",
   "metadata": {},
   "outputs": [
    {
     "name": "stdin",
     "output_type": "stream",
     "text": [
      "enter the N numbers: 5\n"
     ]
    },
    {
     "name": "stdout",
     "output_type": "stream",
     "text": [
      "b)square of 5 numbers is: [1, 4, 9, 16, 25]\n"
     ]
    }
   ],
   "source": [
    "#b)square of N numbers\n",
    "n=int(input(\"enter the N numbers:\"))\n",
    "square=[i**2 for i in range(1,n+1)]\n",
    "print(\"b)square of\",n,\"numbers is:\",square)"
   ]
  },
  {
   "cell_type": "code",
   "execution_count": 15,
   "id": "37c4a7a1-0e3b-42e8-8e74-df1915df5c37",
   "metadata": {},
   "outputs": [
    {
     "name": "stdin",
     "output_type": "stream",
     "text": [
      "enter the word: amith\n"
     ]
    },
    {
     "name": "stdout",
     "output_type": "stream",
     "text": [
      "c)list of vowels from the list are: ['a', 'i']\n"
     ]
    }
   ],
   "source": [
    "#c)form a list of vowels selected from a given word\n",
    "word=input(\"enter the word:\").lower()\n",
    "vowels=[c for c in word if c in 'aeiou']\n",
    "print(\"c)list of vowels from the list are:\",vowels)"
   ]
  },
  {
   "cell_type": "code",
   "execution_count": 16,
   "id": "e07ecfd7-1173-4254-b468-f19e9daaf014",
   "metadata": {},
   "outputs": [
    {
     "name": "stdin",
     "output_type": "stream",
     "text": [
      "enter the word: amitha\n"
     ]
    },
    {
     "name": "stdout",
     "output_type": "stream",
     "text": [
      "d)The orginal value of each element in the word are [97, 109, 105, 116, 104, 97]\n"
     ]
    }
   ],
   "source": [
    "#d)list of orginal value of each element of the word(hint:use ord() to get original values)\n",
    "word=input(\"enter the word:\").lower()\n",
    "org=[ord(c) for c in word]\n",
    "print(\"d)The orginal value of each element in the word are\",org)"
   ]
  },
  {
   "cell_type": "code",
   "execution_count": null,
   "id": "6e6c6fd3-2017-4e24-a678-a5d7a5251a7f",
   "metadata": {},
   "outputs": [],
   "source": []
  }
 ],
 "metadata": {
  "kernelspec": {
   "display_name": "Python 3 (ipykernel)",
   "language": "python",
   "name": "python3"
  },
  "language_info": {
   "codemirror_mode": {
    "name": "ipython",
    "version": 3
   },
   "file_extension": ".py",
   "mimetype": "text/x-python",
   "name": "python",
   "nbconvert_exporter": "python",
   "pygments_lexer": "ipython3",
   "version": "3.11.7"
  }
 },
 "nbformat": 4,
 "nbformat_minor": 5
}
