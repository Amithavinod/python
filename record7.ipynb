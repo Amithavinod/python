{
 "cells": [
  {
   "cell_type": "code",
   "execution_count": 5,
   "id": "6cd39ef2-235a-43e5-a747-7723966b9a40",
   "metadata": {},
   "outputs": [
    {
     "name": "stdout",
     "output_type": "stream",
     "text": [
      "Even numbers between 1 and 25 are: [2, 4, 6, 8, 10, 12, 14, 16, 18, 20, 22, 24]\n",
      "THe sum of the even numbers between 1 and 25 are: 156\n"
     ]
    }
   ],
   "source": [
    "#write a python program to print all even numbers from 1 to 25 and calculate the sum.(using the range() function directly without a loop or conditions)\n",
    "r=range(2,25,2)\n",
    "print(\"Even numbers between 1 and 25 are:\",list(r))\n",
    "print(\"THe sum of the even numbers between 1 and 25 are:\",sum(r))"
   ]
  },
  {
   "cell_type": "code",
   "execution_count": 36,
   "id": "ad5d0a23-7a44-4aba-9657-a12e39ffd970",
   "metadata": {},
   "outputs": [
    {
     "name": "stdin",
     "output_type": "stream",
     "text": [
      "enter the range: 10\n"
     ]
    },
    {
     "name": "stdout",
     "output_type": "stream",
     "text": [
      "given range values: [0, 1, 2, 3, 4, 5, 6, 7, 8, 9, 10]\n",
      "reveresd range: [10, 9, 8, 7, 6, 5, 4, 3, 2, 1, 0]\n",
      "sum is: 55\n"
     ]
    }
   ],
   "source": [
    "#write a python program to print all in reverse order and calucate their sum\n",
    "a=int(input(\"enter the range:\"))\n",
    "b=list(range(0,a+1,1))\n",
    "print(\"given range values:\",b)\n",
    "print(\"reveresd range:\",list(range(a,-1,-1)))\n",
    "print(\"sum is:\",sum(b))"
   ]
  },
  {
   "cell_type": "code",
   "execution_count": null,
   "id": "1794a19e-514d-4740-8fea-b015bcf4d66a",
   "metadata": {},
   "outputs": [],
   "source": []
  }
 ],
 "metadata": {
  "kernelspec": {
   "display_name": "Python 3 (ipykernel)",
   "language": "python",
   "name": "python3"
  },
  "language_info": {
   "codemirror_mode": {
    "name": "ipython",
    "version": 3
   },
   "file_extension": ".py",
   "mimetype": "text/x-python",
   "name": "python",
   "nbconvert_exporter": "python",
   "pygments_lexer": "ipython3",
   "version": "3.11.7"
  }
 },
 "nbformat": 4,
 "nbformat_minor": 5
}
