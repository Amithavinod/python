{
 "cells": [
  {
   "cell_type": "code",
   "execution_count": 3,
   "id": "dd828d07-a03d-4e0d-9b40-b2ece1207728",
   "metadata": {},
   "outputs": [
    {
     "name": "stdin",
     "output_type": "stream",
     "text": [
      "Enter the side of a triangle 3\n",
      "Enter the height of the triangle 4\n"
     ]
    },
    {
     "name": "stdout",
     "output_type": "stream",
     "text": [
      "area is= 6.0\n"
     ]
    }
   ],
   "source": [
    "#write a program to compute the area of right angled triangle\n",
    "side=float(input(\"Enter the side of a triangle\"))\n",
    "height=float(input(\"Enter the height of the triangle\"))\n",
    "area=0.5* side * height\n",
    "print(\"area is=\",area)"
   ]
  },
  {
   "cell_type": "code",
   "execution_count": 12,
   "id": "9617e945-6d19-4a63-9539-c5d3a09c7e92",
   "metadata": {},
   "outputs": [
    {
     "name": "stdin",
     "output_type": "stream",
     "text": [
      "enter the name a\n"
     ]
    },
    {
     "name": "stdout",
     "output_type": "stream",
     "text": [
      "Hello, a !\n"
     ]
    }
   ],
   "source": [
    "#program to enter the name with !\n",
    "name=input(\"enter the name\")\n",
    "print(\"Hello,\",(name),\"!\")\n",
    "\n"
   ]
  },
  {
   "cell_type": "code",
   "execution_count": 13,
   "id": "aaf01869-61e9-4f67-958c-9dae1b49b77c",
   "metadata": {},
   "outputs": [
    {
     "name": "stdin",
     "output_type": "stream",
     "text": [
      "enter the number 3\n"
     ]
    },
    {
     "name": "stdout",
     "output_type": "stream",
     "text": [
      "previous number is  2 next number is 4\n"
     ]
    }
   ],
   "source": [
    "#program to find the previous and next number\n",
    "number=int(input(\"enter the number\"))\n",
    "n=number-1\n",
    "u=number+1\n",
    "print(\"previous number is \",(n),\"next number is\",(u))"
   ]
  },
  {
   "cell_type": "code",
   "execution_count": 14,
   "id": "e3c6f1ea-fbfc-4c65-953e-3c69ebeae3c8",
   "metadata": {},
   "outputs": [
    {
     "name": "stdin",
     "output_type": "stream",
     "text": [
      "enter the amount 100\n",
      "enter the interest rate 4\n",
      "enter the yrs 4\n"
     ]
    },
    {
     "name": "stdout",
     "output_type": "stream",
     "text": [
      "simple interest is  16.0\n"
     ]
    }
   ],
   "source": [
    "#program to find the simple interest\n",
    "pr=int(input(\"enter the amount\"))\n",
    "r=int(input(\"enter the interest rate\"))\n",
    "t=int(input(\"enter the yrs\"))\n",
    "simple=(pr*r*t)/100\n",
    "print(\"simple interest is \",simple)"
   ]
  },
  {
   "cell_type": "code",
   "execution_count": null,
   "id": "e521cb28-d613-417a-80e4-817011572228",
   "metadata": {},
   "outputs": [],
   "source": []
  }
 ],
 "metadata": {
  "kernelspec": {
   "display_name": "Python 3 (ipykernel)",
   "language": "python",
   "name": "python3"
  },
  "language_info": {
   "codemirror_mode": {
    "name": "ipython",
    "version": 3
   },
   "file_extension": ".py",
   "mimetype": "text/x-python",
   "name": "python",
   "nbconvert_exporter": "python",
   "pygments_lexer": "ipython3",
   "version": "3.11.7"
  }
 },
 "nbformat": 4,
 "nbformat_minor": 5
}
